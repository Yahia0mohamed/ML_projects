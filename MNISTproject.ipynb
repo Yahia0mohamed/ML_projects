{
  "cells": [
    {
      "cell_type": "markdown",
      "metadata": {
        "id": "view-in-github",
        "colab_type": "text"
      },
      "source": [
        "<a href=\"https://colab.research.google.com/github/Yahia0mohamed/ML_projects/blob/main/MNISTproject.ipynb\" target=\"_parent\"><img src=\"https://colab.research.google.com/assets/colab-badge.svg\" alt=\"Open In Colab\"/></a>"
      ]
    },
    {
      "cell_type": "markdown",
      "metadata": {
        "id": "1nifWkkBegXH"
      },
      "source": [
        "# ***Classification on MNIST DataSet***\n",
        "MNIST digits dataset will be utilized. It is a dataset of handwritten numbers from 0 to 9."
      ]
    },
    {
      "cell_type": "markdown",
      "metadata": {
        "id": "ANMLxN33fSNl"
      },
      "source": [
        "# *Loading the `DataSet`*"
      ]
    },
    {
      "cell_type": "code",
      "execution_count": 2,
      "metadata": {
        "id": "cT8u6CDofbGy"
      },
      "outputs": [],
      "source": [
        "from keras.datasets import mnist\n",
        "import numpy as np\n",
        "import matplotlib.pyplot as plt\n",
        "import pandas as pd\n",
        "\n",
        "\n",
        "(x_main, y_main), (x_test, y_test) = mnist.load_data()"
      ]
    },
    {
      "cell_type": "markdown",
      "metadata": {
        "id": "-3GrAAn8lJLi"
      },
      "source": [
        "# *Prepare the validate segment and applying the `hog features`*"
      ]
    },
    {
      "cell_type": "code",
      "execution_count": 3,
      "metadata": {
        "colab": {
          "base_uri": "https://localhost:8080/"
        },
        "id": "WXMQegvblSyA",
        "outputId": "b95c9535-6b1f-44fd-e38d-625c0ba997be"
      },
      "outputs": [
        {
          "output_type": "stream",
          "name": "stdout",
          "text": [
            "Main data shape: (60000, 28, 28)\n",
            "Testing data shape: (10000, 28, 28)\n",
            "Training data shape: (50000, 28, 28)\n",
            "Validation data shape: (10000, 28, 28)\n"
          ]
        }
      ],
      "source": [
        "from sklearn.model_selection import train_test_split\n",
        "\n",
        "from skimage.feature import hog\n",
        "from skimage import exposure\n",
        "\n",
        "print(\"Main data shape:\", x_main.shape)\n",
        "print(\"Testing data shape:\", x_test.shape)\n",
        "\n",
        "x_train,x_val,y_train,y_val=train_test_split(x_main,y_main,test_size=0.16666666666666666666666666666667,random_state=42)\n",
        "\n",
        "def apply_hog(data):\n",
        "    hog_features = []\n",
        "    for image in data:\n",
        "        features, hog_image = hog(image, orientations=8, pixels_per_cell=(8, 8), cells_per_block=(1, 1), block_norm='L2-Hys', visualize=True)\n",
        "        hog_image_rescaled = exposure.rescale_intensity(hog_image, in_range=(0, 10))\n",
        "        hog_features.append(features)\n",
        "    return np.array(hog_features)\n",
        "\n",
        "\n",
        "# Flatten the images\n",
        "x_train_flat = x_train.reshape(x_train.shape[0], -1)\n",
        "x_test_flat = x_test.reshape(x_test.shape[0], -1)\n",
        "x_val_flat =x_val.reshape(x_val.shape[0], -1)\n",
        "\n",
        "x_train_hog= apply_hog(x_train)\n",
        "x_test_hog= apply_hog(x_test)\n",
        "x_val_hog= apply_hog(x_val)\n",
        "\n",
        "print(\"Training data shape:\", x_train.shape)\n",
        "print(\"Validation data shape:\", x_val.shape)"
      ]
    },
    {
      "cell_type": "code",
      "execution_count": 4,
      "metadata": {
        "colab": {
          "base_uri": "https://localhost:8080/",
          "height": 380
        },
        "id": "u-KLMQ_meXy1",
        "outputId": "17f927ab-e6e9-4ec1-9121-69efa2e2c60b"
      },
      "outputs": [
        {
          "output_type": "display_data",
          "data": {
            "text/plain": [
              "<Figure size 2000x200 with 10 Axes>"
            ],
            "image/png": "[encoded data removed]"
          },
          "metadata": {}
        },
        {
          "output_type": "display_data",
          "data": {
            "text/plain": [
              "<Figure size 2000x200 with 10 Axes>"
            ],
            "image/png": "[encoded data removed]"
          },
          "metadata": {}
        }
      ],
      "source": [
        "#showing the diffrence\n",
        "def plot_mnist_images(images, labels, num_images=10):\n",
        "    fig, axes = plt.subplots(1, num_images, figsize=(num_images * 2, 2))\n",
        "\n",
        "    for i in range(num_images):\n",
        "        axes[i].imshow(images[i].reshape(28, 28), cmap='gray')\n",
        "        axes[i].set_title(f\"Label: {labels[i]}\")\n",
        "        axes[i].axis('off')\n",
        "\n",
        "    plt.show()\n",
        "\n",
        "def plot_HOG(images, labels, num_images=10):\n",
        "    fig, axes = plt.subplots(1, num_images, figsize=(num_images * 2, 2))\n",
        "\n",
        "    for i in range(num_images):\n",
        "       axes[i].imshow(images[i].reshape(9, 8), cmap='gray')\n",
        "       axes[i].set_title(f\"Label: {labels[i]}\")\n",
        "       axes[i].axis('off')\n",
        "\n",
        "    plt.show()\n",
        "\n",
        "plot_mnist_images(x_train, y_train)\n",
        "plot_HOG(x_train_hog,y_train)"
      ]
    },
    {
      "cell_type": "markdown",
      "metadata": {
        "id": "etQL92lPnzuf"
      },
      "source": [
        "# *```KNN``` classifier*"
      ]
    },
    {
      "cell_type": "code",
      "execution_count": 5,
      "metadata": {
        "colab": {
          "base_uri": "https://localhost:8080/"
        },
        "id": "fk07pfPmuuVP",
        "outputId": "26d0acbf-b47d-4771-e718-65f91b18f1dc"
      },
      "outputs": [
        {
          "output_type": "stream",
          "name": "stdout",
          "text": [
            "Validation accuracy: 97.24000000000001%\n",
            "test accuracy: 96.89999999999999%\n",
            "              precision    recall  f1-score   support\n",
            "\n",
            "           0       0.97      0.99      0.98       980\n",
            "           1       0.96      1.00      0.98      1135\n",
            "           2       0.98      0.96      0.97      1032\n",
            "           3       0.96      0.97      0.96      1010\n",
            "           4       0.97      0.97      0.97       982\n",
            "           5       0.97      0.97      0.97       892\n",
            "           6       0.98      0.98      0.98       958\n",
            "           7       0.96      0.96      0.96      1028\n",
            "           8       0.99      0.93      0.96       974\n",
            "           9       0.96      0.96      0.96      1009\n",
            "\n",
            "    accuracy                           0.97     10000\n",
            "   macro avg       0.97      0.97      0.97     10000\n",
            "weighted avg       0.97      0.97      0.97     10000\n",
            "\n"
          ]
        }
      ],
      "source": [
        "from math import sqrt\n",
        "from sklearn.neighbors import KNeighborsClassifier\n",
        "from sklearn.metrics import accuracy_score,classification_report\n",
        "\n",
        "#using built in KNN\n",
        "\n",
        "knn_classifier = KNeighborsClassifier(n_neighbors=3)\n",
        "knn_classifier.fit(x_train_flat, y_train)\n",
        "\n",
        "# Validation of the model\n",
        "y_pred = knn_classifier.predict(x_val_flat)\n",
        "\n",
        "# Evaluate the accuracy\n",
        "accuracy = accuracy_score(y_val, y_pred)\n",
        "print(f'Validation accuracy: {accuracy*100}%')\n",
        "\n",
        "# Validation of the model\n",
        "y_pred = knn_classifier.predict(x_test_flat)\n",
        "\n",
        "# Evaluate the accuracy\n",
        "accuracy = accuracy_score(y_test, y_pred)\n",
        "print(f'test accuracy: {accuracy*100}%')\n",
        "\n",
        "knnReport=classification_report(y_test, y_pred)\n",
        "print(knnReport)\n"
      ]
    },
    {
      "cell_type": "code",
      "execution_count": null,
      "metadata": {
        "colab": {
          "base_uri": "https://localhost:8080/"
        },
        "id": "sMJeahHoJPqV",
        "outputId": "02966659-e279-43c1-a0ca-6e4487c5e27c"
      },
      "outputs": [
        {
          "output_type": "stream",
          "name": "stdout",
          "text": [
            "Model accurecy:21.6%\n"
          ]
        }
      ],
      "source": [
        "# KNN is K nearest neighbor where k is the radius of the area we are compairing from,\n",
        "# we claculate the distance using the euclidian rule\n",
        "# distance = sqrt(((x-a)**2)-((y-b)**2)).\n",
        "\n",
        "# User made KNN\n",
        "\n",
        "mini_x_train=x_train_flat[0:(int(len(x_train_flat)/10))]\n",
        "mini_y_train=y_train[0:(int(len(y_train)/10))]\n",
        "mini_x_test=x_test_flat[0:(int(len(x_test_flat)/10))]\n",
        "mini_y_test=y_test[0:(int(len(y_test)/10))]\n",
        "\n",
        "def KNN(X, Y, T, k=3):\n",
        "    predList = []\n",
        "    for x in T:\n",
        "        # Calculate the Euclidean distance\n",
        "        distance = np.sqrt(np.sum((X - x)**2, axis=1))\n",
        "        # Get the indices of the k nearest points\n",
        "        k_nearest_indices = np.argsort(distance)[:k]\n",
        "        # Get the labels of these points\n",
        "        k_nearest_labels = Y[k_nearest_indices]\n",
        "        # Get the most frequent class in the k nearest labels\n",
        "        predicted_label = np.bincount(k_nearest_labels).argmax()\n",
        "        predList.append(predicted_label)\n",
        "    return predList\n",
        "\n",
        "predections=KNN(mini_x_train,mini_y_train,mini_x_test,k=6)\n",
        "\n",
        "from sklearn.metrics import accuracy_score\n",
        "\n",
        "print(f'Model accurecy:{accuracy_score(mini_y_test,predections)*100}%')"
      ]
    },
    {
      "cell_type": "markdown",
      "metadata": {
        "id": "AOrVQ96CCyfY"
      },
      "source": [
        "# *`Bayes` classifier*"
      ]
    },
    {
      "cell_type": "code",
      "execution_count": 6,
      "metadata": {
        "colab": {
          "base_uri": "https://localhost:8080/"
        },
        "id": "PU5W4fPQDBV5",
        "outputId": "4b3d7b7c-bf8b-4a8d-9eec-e4c96d1f3cda"
      },
      "outputs": [
        {
          "output_type": "stream",
          "name": "stdout",
          "text": [
            "Validation accuracy: 77.42%\n",
            "test accuracy: 78.62%\n",
            "              precision    recall  f1-score   support\n",
            "\n",
            "           0       0.92      0.91      0.92       980\n",
            "           1       0.86      0.96      0.91      1135\n",
            "           2       0.89      0.69      0.78      1032\n",
            "           3       0.80      0.77      0.78      1010\n",
            "           4       0.85      0.59      0.70       982\n",
            "           5       0.85      0.57      0.69       892\n",
            "           6       0.82      0.92      0.86       958\n",
            "           7       0.93      0.77      0.84      1028\n",
            "           8       0.59      0.75      0.66       974\n",
            "           9       0.58      0.90      0.71      1009\n",
            "\n",
            "    accuracy                           0.79     10000\n",
            "   macro avg       0.81      0.78      0.78     10000\n",
            "weighted avg       0.81      0.79      0.79     10000\n",
            "\n"
          ]
        }
      ],
      "source": [
        "#built in Bayes is implemented using Gassian\n",
        "\n",
        "from sklearn.naive_bayes import GaussianNB\n",
        "\n",
        "\n",
        "gnb = GaussianNB(var_smoothing= 1e-2)\n",
        "\n",
        "# Train the classifier\n",
        "gnb.fit(x_train_flat, y_train)\n",
        "\n",
        "# Validation of the model\n",
        "y_pred = gnb.predict(x_val_flat)\n",
        "\n",
        "# Evaluate the accuracy\n",
        "accuracy = accuracy_score(y_val, y_pred)\n",
        "print(f'Validation accuracy: {accuracy*100}%')\n",
        "\n",
        "# Validation of the model\n",
        "y_pred = gnb.predict(x_test_flat)\n",
        "\n",
        "# Evaluate the accuracy\n",
        "accuracy = accuracy_score(y_test, y_pred)\n",
        "print(f'test accuracy: {accuracy*100}%')\n",
        "\n",
        "gnbReport=classification_report(y_test, y_pred)\n",
        "print(gnbReport)"
      ]
    },
    {
      "cell_type": "code",
      "execution_count": null,
      "metadata": {
        "id": "AdBaOn_5Fdp-",
        "colab": {
          "base_uri": "https://localhost:8080/"
        },
        "outputId": "86a4db37-7df5-4345-fcdb-fe7bb139da96"
      },
      "outputs": [
        {
          "output_type": "stream",
          "name": "stderr",
          "text": [
            "<ipython-input-8-d200ab456e08>:39: RuntimeWarning: divide by zero encountered in log\n",
            "  label: np.sum(np.log(gaussianDisc(sample, label,Xprob)))\n"
          ]
        },
        {
          "output_type": "stream",
          "name": "stdout",
          "text": [
            "test accuracy: 46.1%\n"
          ]
        }
      ],
      "source": [
        "# User made Bayesian Classifier using Gassian discriminant function\n",
        "\n",
        "# this function returns the aprior(p(w)) and marginalzation(p(x)) probabilities\n",
        "def probabilites(X,Y):\n",
        "  Wprob={label: np.mean(Y==label) for label in set(Y)} # probability of any class happining\n",
        "  Xprob={}\n",
        "  for label in set(Y):\n",
        "    label_mask = (Y == label)\n",
        "    Xprob[label] = {\n",
        "        feature: {\n",
        "            'mean': np.mean(X[label_mask, feature]),\n",
        "            'std': np.std(X[label_mask, feature]) + 1e-8  # Avoid division by zero\n",
        "        }\n",
        "        for feature in range(X.shape[1])\n",
        "    }\n",
        "  return Wprob,Xprob\n",
        "\n",
        "\n",
        "# this function returns the likelyhood of x given w using Gaussian discriminant\n",
        "def gaussianDisc(x,label,Xprob):\n",
        "  probs = []\n",
        "  for feature in range(len(x)):\n",
        "      mean = Xprob[label][feature]['mean']\n",
        "      std = Xprob[label][feature]['std']\n",
        "      exponent = np.exp(-(np.power(x[feature] - mean, 2) / (2 * np.power(std, 2))))\n",
        "      prob = exponent / (np.sqrt(2 * np.pi) * std)\n",
        "      probs.append(prob)\n",
        "  return probs\n",
        "\n",
        "\n",
        "# this function returns the bayesian classification output which is p(w|x) = p(x|w)*p(w)/p(x)\n",
        "# where p(w|x)=>posterior    ,    p(x|w)=>likelyhood        ,      p(w)=>aprior             ,      p(x)=>marginalization\n",
        "def Bayesian(X,Y,T):\n",
        "  predList=[]\n",
        "  Wprob , Xprob = probabilites(X,Y)\n",
        "  for sample in T:\n",
        "    # Calculate likelihood for each class\n",
        "    likelihoods = {\n",
        "        label: np.sum(np.log(gaussianDisc(sample, label,Xprob)))\n",
        "        for label in Wprob\n",
        "    }\n",
        "    # Calculate posterior probabilities\n",
        "    posteriors = {\n",
        "        label: likelihoods[label] + np.log(Wprob[label])\n",
        "        for label in Wprob\n",
        "    }\n",
        "    # Predict the class with the highest posterior probability\n",
        "    predicted_class = max(posteriors, key=posteriors.get)\n",
        "    predList.append(predicted_class)\n",
        "  return predList\n",
        "\n",
        "\n",
        "mini_x_train=x_train_flat[0:(int(len(x_train_flat)/10))]\n",
        "mini_y_train=y_train[0:(int(len(y_train)/10))]\n",
        "mini_x_test=x_test_flat[0:(int(len(x_test_flat)/10))]\n",
        "mini_y_test=y_test[0:(int(len(y_test)/10))]\n",
        "\n",
        "predection = Bayesian(mini_x_train,mini_y_train,mini_x_test)\n",
        "\n",
        "# Evaluate the accuracy\n",
        "accuracy = accuracy_score(mini_y_test, predection)\n",
        "print(f'test accuracy: {accuracy*100}%')\n"
      ]
    },
    {
      "cell_type": "markdown",
      "source": [
        "# *`Logistic Regression` Classifier*"
      ],
      "metadata": {
        "id": "EFPixr08kgF8"
      }
    },
    {
      "cell_type": "code",
      "source": [
        "#built in SVC\n",
        "from sklearn.linear_model import LogisticRegression\n",
        "\n",
        "# Initialize the SVM classifier\n",
        "LGST_classifier = LogisticRegression()\n",
        "\n",
        "# Train the classifier\n",
        "LGST_classifier.fit(x_train_flat, y_train)\n",
        "\n",
        "# Validation of the model\n",
        "y_pred = LGST_classifier.predict(x_val_flat)\n",
        "\n",
        "accuracy = accuracy_score(y_val, y_pred)\n",
        "print(f'Validation accuracy: {accuracy*100}%')\n",
        "\n",
        "\n",
        "# Testing of the model\n",
        "y_pred = LGST_classifier.predict(x_test_flat)\n",
        "\n",
        "accuracy = accuracy_score(y_test, y_pred)\n",
        "print(f'test accuracy: {accuracy*100}%')\n",
        "\n",
        "svmReport=classification_report(y_test, y_pred)\n",
        "print(svmReport)\n"
      ],
      "metadata": {
        "id": "diVKlrCyxWTk",
        "colab": {
          "base_uri": "https://localhost:8080/"
        },
        "outputId": "f83952cb-5295-4e13-c860-aeaa07a0a1e9"
      },
      "execution_count": 7,
      "outputs": [
        {
          "output_type": "stream",
          "name": "stdout",
          "text": [
            "Validation accuracy: 92.11%\n",
            "test accuracy: 92.21000000000001%\n",
            "              precision    recall  f1-score   support\n",
            "\n",
            "           0       0.96      0.98      0.97       980\n",
            "           1       0.97      0.98      0.97      1135\n",
            "           2       0.93      0.89      0.91      1032\n",
            "           3       0.90      0.91      0.90      1010\n",
            "           4       0.93      0.93      0.93       982\n",
            "           5       0.89      0.86      0.88       892\n",
            "           6       0.94      0.94      0.94       958\n",
            "           7       0.93      0.92      0.93      1028\n",
            "           8       0.86      0.89      0.87       974\n",
            "           9       0.91      0.91      0.91      1009\n",
            "\n",
            "    accuracy                           0.92     10000\n",
            "   macro avg       0.92      0.92      0.92     10000\n",
            "weighted avg       0.92      0.92      0.92     10000\n",
            "\n"
          ]
        },
        {
          "output_type": "stream",
          "name": "stderr",
          "text": [
            "/usr/local/lib/python3.10/dist-packages/sklearn/linear_model/_logistic.py:458: ConvergenceWarning: lbfgs failed to converge (status=1):\n",
            "STOP: TOTAL NO. of ITERATIONS REACHED LIMIT.\n",
            "\n",
            "Increase the number of iterations (max_iter) or scale the data as shown in:\n",
            "    https://scikit-learn.org/stable/modules/preprocessing.html\n",
            "Please also refer to the documentation for alternative solver options:\n",
            "    https://scikit-learn.org/stable/modules/linear_model.html#logistic-regression\n",
            "  n_iter_i = _check_optimize_result(\n"
          ]
        }
      ]
    }
  ],
  "metadata": {
    "colab": {
      "provenance": [],
      "authorship_tag": "ABX9TyNGvGUwYMuVRog/03DfV3/d",
      "include_colab_link": true
    },
    "kernelspec": {
      "display_name": "Python 3",
      "name": "python3"
    },
    "language_info": {
      "name": "python"
    }
  },
  "nbformat": 4,
  "nbformat_minor": 0
}