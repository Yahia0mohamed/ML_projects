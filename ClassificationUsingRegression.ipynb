{
  "nbformat": 4,
  "nbformat_minor": 0,
  "metadata": {
    "colab": {
      "provenance": [],
      "authorship_tag": "ABX9TyN7tlo1F50UypGGDpa1rzxF",
      "include_colab_link": true
    },
    "kernelspec": {
      "name": "python3",
      "display_name": "Python 3"
    },
    "language_info": {
      "name": "python"
    }
  },
  "cells": [
    {
      "cell_type": "markdown",
      "metadata": {
        "id": "view-in-github",
        "colab_type": "text"
      },
      "source": [
        "<a href=\"https://colab.research.google.com/github/Yahia0mohamed/ML_projects/blob/main/ClassificationUsingRegression.ipynb\" target=\"_parent\"><img src=\"https://colab.research.google.com/assets/colab-badge.svg\" alt=\"Open In Colab\"/></a>"
      ]
    },
    {
      "cell_type": "markdown",
      "source": [
        "# **Supervised Learning**\n",
        "\n",
        "This project consists of 2 classification problems using linear regrission"
      ],
      "metadata": {
        "id": "H1FlfwN3c8qG"
      }
    },
    {
      "cell_type": "markdown",
      "source": [
        "# **Importing libraries for the project**"
      ],
      "metadata": {
        "id": "CQtOvrbAdpnH"
      }
    },
    {
      "cell_type": "code",
      "execution_count": 97,
      "metadata": {
        "colab": {
          "base_uri": "https://localhost:8080/"
        },
        "id": "qpx2IdUScrFL",
        "outputId": "2b495ce0-a1d0-49e9-8144-8587844adce1"
      },
      "outputs": [
        {
          "output_type": "stream",
          "name": "stdout",
          "text": [
            "done importing\n"
          ]
        }
      ],
      "source": [
        "import numpy as np\n",
        "import pandas as pd\n",
        "import seaborn as sns\n",
        "import matplotlib.pyplot as plt\n",
        "import math\n",
        "from sklearn.metrics import accuracy_score, classification_report\n",
        "from sklearn.model_selection import train_test_split\n",
        "print(\"done importing\")"
      ]
    },
    {
      "cell_type": "markdown",
      "source": [
        "# **Problem 1**\n",
        "\n",
        "A binary classification problem"
      ],
      "metadata": {
        "id": "a0aYkNsGfQSc"
      }
    },
    {
      "cell_type": "code",
      "source": [
        "#class 1 is +ve and class 2 is -ve for the sake of the classification\n",
        "x=np.array([[1,2],[1,3],[1,7],[1,9],[1,10]])\n",
        "y=np.array([1,1,-1,-1,-1])\n",
        "print(f\"the shape of x is {x.shape} and x = \\n{x}\\n and the shape of y is {y.shape} and y = {y}\")\n",
        "\n",
        "#y= (w . x) + b  => w = (xT . y) . inv(x . xT)\n",
        "\n",
        "w = np.dot(np.dot(np.linalg.inv(np.dot(x.T, x)), x.T), y)\n",
        "\n",
        "print(f\"\\nthis is the weights using MSSE to obtain the weights are [{w[0]},{w[1]}] and the shape of w is {w.shape}\")\n",
        "\n",
        "# proofing the W calculated\n",
        "y_proof = np.dot(x, w)\n",
        "y_proof_binary = np.where(y_proof >= 0, 1, -1)\n",
        "\n",
        "print(f\"Predicted values of y (binary classification):{ y_proof_binary}\\nOriginal predicted values of y:{y_proof}\")"
      ],
      "metadata": {
        "colab": {
          "base_uri": "https://localhost:8080/"
        },
        "id": "4W6qaQlXffNc",
        "outputId": "559602f4-11fe-4aca-b56c-93f7edd48864"
      },
      "execution_count": 98,
      "outputs": [
        {
          "output_type": "stream",
          "name": "stdout",
          "text": [
            "the shape of x is (5, 2) and x = \n",
            "[[ 1  2]\n",
            " [ 1  3]\n",
            " [ 1  7]\n",
            " [ 1  9]\n",
            " [ 1 10]]\n",
            " and the shape of y is (5,) and y = [ 1  1 -1 -1 -1]\n",
            "\n",
            "this is the weights using MSSE to obtain the weights are [1.606299212598425,-0.2913385826771653] and the shape of w is (2,)\n",
            "Predicted values of y (binary classification):[ 1  1 -1 -1 -1]\n",
            "Original predicted values of y:[ 1.02362205  0.73228346 -0.43307087 -1.01574803 -1.30708661]\n"
          ]
        }
      ]
    },
    {
      "cell_type": "code",
      "source": [
        "#the iteration with noise\n",
        "def addNoise(noRow,noCol):\n",
        "  return np.random.normal(0,1,size=(noRow,noCol))\n",
        "\n",
        "noise=addNoise(x.shape[0],x.shape[1])\n",
        "x_noisy= x + noise\n",
        "\n",
        "print(f\"the noise = \\n{noise}\\n and it's shape is {noise.shape}\\n the noisy x = \\n{x_noisy}  and it's shape = {x_noisy.shape}\")\n",
        "\n",
        "w_noisy = np.dot(np.dot(np.linalg.inv(np.dot(x.T, x)), x.T), y)\n",
        "\n",
        "print(f\"\\nthis is the weights using MSSE to obtain the weights are [{w_noisy[0]},{w_noisy[1]}] and the shape of w is {w_noisy.shape}\")\n",
        "\n",
        "# proofing the W calculated\n",
        "y_noisyProof = np.dot(x_noisy, w_noisy)\n",
        "y_noisyProof_binary = np.where(y_noisyProof >= 0, 1, -1)\n",
        "\n",
        "print(f\"Predicted values of y (binary classification):{y_noisyProof_binary}\\nOriginal predicted values of y:{y_noisyProof}\")"
      ],
      "metadata": {
        "colab": {
          "base_uri": "https://localhost:8080/"
        },
        "id": "v38qjktFm59r",
        "outputId": "54456b18-2f0a-4066-c5fc-96a55cc836bf"
      },
      "execution_count": 107,
      "outputs": [
        {
          "output_type": "stream",
          "name": "stdout",
          "text": [
            "the noise = \n",
            "[[-0.24438098 -0.17816545]\n",
            " [-1.29482202 -0.17181029]\n",
            " [ 0.84373158 -0.02879132]\n",
            " [ 0.01799403  0.53842792]\n",
            " [ 0.31591258  0.45826032]]\n",
            " and it's shape is (5, 2)\n",
            " the noisy x = \n",
            "[[ 0.75561902  1.82183455]\n",
            " [-0.29482202  2.82818971]\n",
            " [ 1.84373158  6.97120868]\n",
            " [ 1.01799403  9.53842792]\n",
            " [ 1.31591258 10.45826032]]  and it's shape = (5, 2)\n",
            "\n",
            "this is the weights using MSSE to obtain the weights are [1.606299212598425,-0.2913385826771653] and the shape of w is (2,)\n",
            "Predicted values of y (binary classification):[ 1 -1  1 -1 -1]\n",
            "Original predicted values of y:[ 0.68297953 -1.29753317  0.93060253 -1.14370906 -0.93314539]\n"
          ]
        }
      ]
    },
    {
      "cell_type": "markdown",
      "source": [
        "**ploting the two functions to see the difference between noise and without it**"
      ],
      "metadata": {
        "id": "kQK0ffAMpmUM"
      }
    },
    {
      "cell_type": "code",
      "source": [
        "fig, axes = plt.subplots(1, 2, figsize=(12, 5))\n",
        "\n",
        "# Plot without noise\n",
        "sns.lineplot(x=np.arange(len(y_proof_binary)), y=y_proof_binary, ax=axes[0])\n",
        "axes[0].set_xlabel('Data Point')\n",
        "axes[0].set_ylabel('Predicted Value')\n",
        "axes[0].set_title('Predicted Values without Noise')\n",
        "\n",
        "# Plot with noise\n",
        "sns.lineplot(x=np.arange(len(y_noisyProof_binary)), y=y_noisyProof_binary, ax=axes[1])\n",
        "axes[1].set_xlabel('Data Point')\n",
        "axes[1].set_ylabel('Predicted Value')\n",
        "axes[1].set_title('Predicted Values with Noise')\n",
        "\n",
        "plt.tight_layout()\n",
        "plt.show()"
      ],
      "metadata": {
        "colab": {
          "base_uri": "https://localhost:8080/",
          "height": 475
        },
        "id": "PRAOQ6ibpwaT",
        "outputId": "325d84a9-38a6-47af-8c7f-166ef1ead913"
      },
      "execution_count": 108,
      "outputs": [
        {
          "output_type": "display_data",
          "data": {
            "text/plain": [
              "<Figure size 1200x500 with 2 Axes>"
            ],
            "image/png": "[encoded data removed]"
          },
          "metadata": {}
        }
      ]
    },
    {
      "cell_type": "markdown",
      "source": [
        "# **problem 2**\n",
        "\n",
        "Classification problem using the Iris Dataset"
      ],
      "metadata": {
        "id": "RsxVPeKvsE6T"
      }
    },
    {
      "cell_type": "code",
      "source": [
        "irisData=pd.read_csv(\"/content/Iris.csv\")\n",
        "#preprocessing\n",
        "\n",
        "new_column_names = {\n",
        "    'Id':'id',\n",
        "    'SepalLengthCm': 'sepal_width',\n",
        "    'SepalWidthCm': 'sepal_width',\n",
        "    'PetalLengthCm': 'petal_length',\n",
        "    'PetalWidthCm': 'petal_width',\n",
        "    'Species': 'target'\n",
        "    }\n",
        "irisData.rename(columns=new_column_names, inplace=True)\n",
        "\n",
        "\n",
        "dummiesDict={\n",
        "    'Iris-setosa':1,\n",
        "    'Iris-versicolor':-1,\n",
        "    'Iris-virginica':-1\n",
        "}\n",
        "\n",
        "irisData['target'] = irisData['target'].map(dummiesDict)\n",
        "irisData=irisData.drop(columns=['id'])\n",
        "\n",
        "irisData.head()"
      ],
      "metadata": {
        "colab": {
          "base_uri": "https://localhost:8080/",
          "height": 206
        },
        "id": "Xf_jU5vqsOtq",
        "outputId": "a3d9fcba-0cdf-47fe-8ad8-f8339708eeb8"
      },
      "execution_count": 109,
      "outputs": [
        {
          "output_type": "execute_result",
          "data": {
            "text/plain": [
              "   sepal_width  sepal_width  petal_length  petal_width  target\n",
              "0          5.1          3.5           1.4          0.2       1\n",
              "1          4.9          3.0           1.4          0.2       1\n",
              "2          4.7          3.2           1.3          0.2       1\n",
              "3          4.6          3.1           1.5          0.2       1\n",
              "4          5.0          3.6           1.4          0.2       1"
            ],
            "text/html": [
              "\n",
              "  <div id=\"df-4204c5ea-ff35-444b-b646-b2a090400f1d\" class=\"colab-df-container\">\n",
              "    <div>\n",
              "<style scoped>\n",
              "    .dataframe tbody tr th:only-of-type {\n",
              "        vertical-align: middle;\n",
              "    }\n",
              "\n",
              "    .dataframe tbody tr th {\n",
              "        vertical-align: top;\n",
              "    }\n",
              "\n",
              "    .dataframe thead th {\n",
              "        text-align: right;\n",
              "    }\n",
              "</style>\n",
              "<table border=\"1\" class=\"dataframe\">\n",
              "  <thead>\n",
              "    <tr style=\"text-align: right;\">\n",
              "      <th></th>\n",
              "      <th>sepal_width</th>\n",
              "      <th>sepal_width</th>\n",
              "      <th>petal_length</th>\n",
              "      <th>petal_width</th>\n",
              "      <th>target</th>\n",
              "    </tr>\n",
              "  </thead>\n",
              "  <tbody>\n",
              "    <tr>\n",
              "      <th>0</th>\n",
              "      <td>5.1</td>\n",
              "      <td>3.5</td>\n",
              "      <td>1.4</td>\n",
              "      <td>0.2</td>\n",
              "      <td>1</td>\n",
              "    </tr>\n",
              "    <tr>\n",
              "      <th>1</th>\n",
              "      <td>4.9</td>\n",
              "      <td>3.0</td>\n",
              "      <td>1.4</td>\n",
              "      <td>0.2</td>\n",
              "      <td>1</td>\n",
              "    </tr>\n",
              "    <tr>\n",
              "      <th>2</th>\n",
              "      <td>4.7</td>\n",
              "      <td>3.2</td>\n",
              "      <td>1.3</td>\n",
              "      <td>0.2</td>\n",
              "      <td>1</td>\n",
              "    </tr>\n",
              "    <tr>\n",
              "      <th>3</th>\n",
              "      <td>4.6</td>\n",
              "      <td>3.1</td>\n",
              "      <td>1.5</td>\n",
              "      <td>0.2</td>\n",
              "      <td>1</td>\n",
              "    </tr>\n",
              "    <tr>\n",
              "      <th>4</th>\n",
              "      <td>5.0</td>\n",
              "      <td>3.6</td>\n",
              "      <td>1.4</td>\n",
              "      <td>0.2</td>\n",
              "      <td>1</td>\n",
              "    </tr>\n",
              "  </tbody>\n",
              "</table>\n",
              "</div>\n",
              "    <div class=\"colab-df-buttons\">\n",
              "\n",
              "  <div class=\"colab-df-container\">\n",
              "    <button class=\"colab-df-convert\" onclick=\"convertToInteractive('df-4204c5ea-ff35-444b-b646-b2a090400f1d')\"\n",
              "            title=\"Convert this dataframe to an interactive table.\"\n",
              "            style=\"display:none;\">\n",
              "\n",
              "  <svg xmlns=\"http://www.w3.org/2000/svg\" height=\"24px\" viewBox=\"0 -960 960 960\">\n",
              "    <path d=\"M120-120v-720h720v720H120Zm60-500h600v-160H180v160Zm220 220h160v-160H400v160Zm0 220h160v-160H400v160ZM180-400h160v-160H180v160Zm440 0h160v-160H620v160ZM180-180h160v-160H180v160Zm440 0h160v-160H620v160Z\"/>\n",
              "  </svg>\n",
              "    </button>\n",
              "\n",
              "  <style>\n",
              "    .colab-df-container {\n",
              "      display:flex;\n",
              "      gap: 12px;\n",
              "    }\n",
              "\n",
              "    .colab-df-convert {\n",
              "      background-color: #E8F0FE;\n",
              "      border: none;\n",
              "      border-radius: 50%;\n",
              "      cursor: pointer;\n",
              "      display: none;\n",
              "      fill: #1967D2;\n",
              "      height: 32px;\n",
              "      padding: 0 0 0 0;\n",
              "      width: 32px;\n",
              "    }\n",
              "\n",
              "    .colab-df-convert:hover {\n",
              "      background-color: #E2EBFA;\n",
              "      box-shadow: 0px 1px 2px rgba(60, 64, 67, 0.3), 0px 1px 3px 1px rgba(60, 64, 67, 0.15);\n",
              "      fill: #174EA6;\n",
              "    }\n",
              "\n",
              "    .colab-df-buttons div {\n",
              "      margin-bottom: 4px;\n",
              "    }\n",
              "\n",
              "    [theme=dark] .colab-df-convert {\n",
              "      background-color: #3B4455;\n",
              "      fill: #D2E3FC;\n",
              "    }\n",
              "\n",
              "    [theme=dark] .colab-df-convert:hover {\n",
              "      background-color: #434B5C;\n",
              "      box-shadow: 0px 1px 3px 1px rgba(0, 0, 0, 0.15);\n",
              "      filter: drop-shadow(0px 1px 2px rgba(0, 0, 0, 0.3));\n",
              "      fill: #FFFFFF;\n",
              "    }\n",
              "  </style>\n",
              "\n",
              "    <script>\n",
              "      const buttonEl =\n",
              "        document.querySelector('#df-4204c5ea-ff35-444b-b646-b2a090400f1d button.colab-df-convert');\n",
              "      buttonEl.style.display =\n",
              "        google.colab.kernel.accessAllowed ? 'block' : 'none';\n",
              "\n",
              "      async function convertToInteractive(key) {\n",
              "        const element = document.querySelector('#df-4204c5ea-ff35-444b-b646-b2a090400f1d');\n",
              "        const dataTable =\n",
              "          await google.colab.kernel.invokeFunction('convertToInteractive',\n",
              "                                                    [key], {});\n",
              "        if (!dataTable) return;\n",
              "\n",
              "        const docLinkHtml = 'Like what you see? Visit the ' +\n",
              "          '<a target=\"_blank\" href=https://colab.research.google.com/notebooks/data_table.ipynb>data table notebook</a>'\n",
              "          + ' to learn more about interactive tables.';\n",
              "        element.innerHTML = '';\n",
              "        dataTable['output_type'] = 'display_data';\n",
              "        await google.colab.output.renderOutput(dataTable, element);\n",
              "        const docLink = document.createElement('div');\n",
              "        docLink.innerHTML = docLinkHtml;\n",
              "        element.appendChild(docLink);\n",
              "      }\n",
              "    </script>\n",
              "  </div>\n",
              "\n",
              "\n",
              "<div id=\"df-d9af8ff3-28eb-4ac6-a1d1-a810898bed06\">\n",
              "  <button class=\"colab-df-quickchart\" onclick=\"quickchart('df-d9af8ff3-28eb-4ac6-a1d1-a810898bed06')\"\n",
              "            title=\"Suggest charts\"\n",
              "            style=\"display:none;\">\n",
              "\n",
              "<svg xmlns=\"http://www.w3.org/2000/svg\" height=\"24px\"viewBox=\"0 0 24 24\"\n",
              "     width=\"24px\">\n",
              "    <g>\n",
              "        <path d=\"M19 3H5c-1.1 0-2 .9-2 2v14c0 1.1.9 2 2 2h14c1.1 0 2-.9 2-2V5c0-1.1-.9-2-2-2zM9 17H7v-7h2v7zm4 0h-2V7h2v10zm4 0h-2v-4h2v4z\"/>\n",
              "    </g>\n",
              "</svg>\n",
              "  </button>\n",
              "\n",
              "<style>\n",
              "  .colab-df-quickchart {\n",
              "      --bg-color: #E8F0FE;\n",
              "      --fill-color: #1967D2;\n",
              "      --hover-bg-color: #E2EBFA;\n",
              "      --hover-fill-color: #174EA6;\n",
              "      --disabled-fill-color: #AAA;\n",
              "      --disabled-bg-color: #DDD;\n",
              "  }\n",
              "\n",
              "  [theme=dark] .colab-df-quickchart {\n",
              "      --bg-color: #3B4455;\n",
              "      --fill-color: #D2E3FC;\n",
              "      --hover-bg-color: #434B5C;\n",
              "      --hover-fill-color: #FFFFFF;\n",
              "      --disabled-bg-color: #3B4455;\n",
              "      --disabled-fill-color: #666;\n",
              "  }\n",
              "\n",
              "  .colab-df-quickchart {\n",
              "    background-color: var(--bg-color);\n",
              "    border: none;\n",
              "    border-radius: 50%;\n",
              "    cursor: pointer;\n",
              "    display: none;\n",
              "    fill: var(--fill-color);\n",
              "    height: 32px;\n",
              "    padding: 0;\n",
              "    width: 32px;\n",
              "  }\n",
              "\n",
              "  .colab-df-quickchart:hover {\n",
              "    background-color: var(--hover-bg-color);\n",
              "    box-shadow: 0 1px 2px rgba(60, 64, 67, 0.3), 0 1px 3px 1px rgba(60, 64, 67, 0.15);\n",
              "    fill: var(--button-hover-fill-color);\n",
              "  }\n",
              "\n",
              "  .colab-df-quickchart-complete:disabled,\n",
              "  .colab-df-quickchart-complete:disabled:hover {\n",
              "    background-color: var(--disabled-bg-color);\n",
              "    fill: var(--disabled-fill-color);\n",
              "    box-shadow: none;\n",
              "  }\n",
              "\n",
              "  .colab-df-spinner {\n",
              "    border: 2px solid var(--fill-color);\n",
              "    border-color: transparent;\n",
              "    border-bottom-color: var(--fill-color);\n",
              "    animation:\n",
              "      spin 1s steps(1) infinite;\n",
              "  }\n",
              "\n",
              "  @keyframes spin {\n",
              "    0% {\n",
              "      border-color: transparent;\n",
              "      border-bottom-color: var(--fill-color);\n",
              "      border-left-color: var(--fill-color);\n",
              "    }\n",
              "    20% {\n",
              "      border-color: transparent;\n",
              "      border-left-color: var(--fill-color);\n",
              "      border-top-color: var(--fill-color);\n",
              "    }\n",
              "    30% {\n",
              "      border-color: transparent;\n",
              "      border-left-color: var(--fill-color);\n",
              "      border-top-color: var(--fill-color);\n",
              "      border-right-color: var(--fill-color);\n",
              "    }\n",
              "    40% {\n",
              "      border-color: transparent;\n",
              "      border-right-color: var(--fill-color);\n",
              "      border-top-color: var(--fill-color);\n",
              "    }\n",
              "    60% {\n",
              "      border-color: transparent;\n",
              "      border-right-color: var(--fill-color);\n",
              "    }\n",
              "    80% {\n",
              "      border-color: transparent;\n",
              "      border-right-color: var(--fill-color);\n",
              "      border-bottom-color: var(--fill-color);\n",
              "    }\n",
              "    90% {\n",
              "      border-color: transparent;\n",
              "      border-bottom-color: var(--fill-color);\n",
              "    }\n",
              "  }\n",
              "</style>\n",
              "\n",
              "  <script>\n",
              "    async function quickchart(key) {\n",
              "      const quickchartButtonEl =\n",
              "        document.querySelector('#' + key + ' button');\n",
              "      quickchartButtonEl.disabled = true;  // To prevent multiple clicks.\n",
              "      quickchartButtonEl.classList.add('colab-df-spinner');\n",
              "      try {\n",
              "        const charts = await google.colab.kernel.invokeFunction(\n",
              "            'suggestCharts', [key], {});\n",
              "      } catch (error) {\n",
              "        console.error('Error during call to suggestCharts:', error);\n",
              "      }\n",
              "      quickchartButtonEl.classList.remove('colab-df-spinner');\n",
              "      quickchartButtonEl.classList.add('colab-df-quickchart-complete');\n",
              "    }\n",
              "    (() => {\n",
              "      let quickchartButtonEl =\n",
              "        document.querySelector('#df-d9af8ff3-28eb-4ac6-a1d1-a810898bed06 button');\n",
              "      quickchartButtonEl.style.display =\n",
              "        google.colab.kernel.accessAllowed ? 'block' : 'none';\n",
              "    })();\n",
              "  </script>\n",
              "</div>\n",
              "\n",
              "    </div>\n",
              "  </div>\n"
            ],
            "application/vnd.google.colaboratory.intrinsic+json": {
              "type": "dataframe",
              "variable_name": "irisData",
              "summary": "{\n  \"name\": \"irisData\",\n  \"rows\": 150,\n  \"fields\": [\n    {\n      \"column\": \"sepal_width\",\n      \"properties\": {\n        \"dtype\": \"number\",\n        \"std\": 0.828066127977863,\n        \"min\": 4.3,\n        \"max\": 7.9,\n        \"num_unique_values\": 35,\n        \"samples\": [\n          6.2,\n          4.5,\n          5.6\n        ],\n        \"semantic_type\": \"\",\n        \"description\": \"\"\n      }\n    },\n    {\n      \"column\": \"sepal_width\",\n      \"properties\": {\n        \"dtype\": \"number\",\n        \"std\": 0.4335943113621737,\n        \"min\": 2.0,\n        \"max\": 4.4,\n        \"num_unique_values\": 23,\n        \"samples\": [\n          2.3,\n          4.0,\n          3.5\n        ],\n        \"semantic_type\": \"\",\n        \"description\": \"\"\n      }\n    },\n    {\n      \"column\": \"petal_length\",\n      \"properties\": {\n        \"dtype\": \"number\",\n        \"std\": 1.7644204199522626,\n        \"min\": 1.0,\n        \"max\": 6.9,\n        \"num_unique_values\": 43,\n        \"samples\": [\n          6.7,\n          3.8,\n          3.7\n        ],\n        \"semantic_type\": \"\",\n        \"description\": \"\"\n      }\n    },\n    {\n      \"column\": \"petal_width\",\n      \"properties\": {\n        \"dtype\": \"number\",\n        \"std\": 0.7631607417008411,\n        \"min\": 0.1,\n        \"max\": 2.5,\n        \"num_unique_values\": 22,\n        \"samples\": [\n          0.2,\n          1.2,\n          1.3\n        ],\n        \"semantic_type\": \"\",\n        \"description\": \"\"\n      }\n    },\n    {\n      \"column\": \"target\",\n      \"properties\": {\n        \"dtype\": \"number\",\n        \"std\": 0,\n        \"min\": -1,\n        \"max\": 1,\n        \"num_unique_values\": 2,\n        \"samples\": [\n          -1,\n          1\n        ],\n        \"semantic_type\": \"\",\n        \"description\": \"\"\n      }\n    }\n  ]\n}"
            }
          },
          "metadata": {},
          "execution_count": 109
        }
      ]
    },
    {
      "cell_type": "markdown",
      "source": [
        "**splitting data to train and test**"
      ],
      "metadata": {
        "id": "EfQ1SpMfvw8p"
      }
    },
    {
      "cell_type": "code",
      "source": [
        "# Split C1 into 40 samples for train and 10 samples for test\n",
        "C1_train = irisData[irisData['target'] == 1].sample(n=40, random_state=42)\n",
        "C1_test = irisData[irisData['target'] == 1].drop(C1_train.index)\n",
        "\n",
        "# Split C2 into 80 samples for train and 20 samples for test\n",
        "C2_train = irisData[irisData['target'] == -1].sample(n=80, random_state=42)\n",
        "C2_test = irisData[irisData['target'] == -1].drop(C2_train.index)\n",
        "\n",
        "# Concatenate the datasets\n",
        "train_data = pd.concat([C1_train, C2_train])\n",
        "test_data = pd.concat([C1_test, C2_test])\n",
        "\n",
        "trainX = train_data.sample(frac=1,random_state=42)\n",
        "testX =test_data.sample(frac=1,random_state=42)\n",
        "\n",
        "#splitted data and randomized\n",
        "x_train = trainX.drop(columns=['target'])\n",
        "x_test = testX.drop(columns=['target'])\n",
        "\n",
        "y_train = trainX['target']\n",
        "y_test = testX['target']\n",
        "\n",
        "# Display the shapes of the resulting datasets\n",
        "print(\"x_train shape:\", x_train.shape)\n",
        "print(\"y_train shape:\", y_train.shape)\n",
        "print(\"x_test shape:\", x_test.shape)\n",
        "print(\"y_test shape:\", y_test.shape)"
      ],
      "metadata": {
        "colab": {
          "base_uri": "https://localhost:8080/"
        },
        "id": "FHMIoilJv2c-",
        "outputId": "85435177-b706-4f6f-8153-b4a5ed32ee69"
      },
      "execution_count": 110,
      "outputs": [
        {
          "output_type": "stream",
          "name": "stdout",
          "text": [
            "x_train shape: (120, 4)\n",
            "y_train shape: (120,)\n",
            "x_test shape: (30, 4)\n",
            "y_test shape: (30,)\n"
          ]
        }
      ]
    },
    {
      "cell_type": "markdown",
      "source": [
        "**converting them to numpy arrays and training the MSSE model**"
      ],
      "metadata": {
        "id": "Hf1hCOQhzEjB"
      }
    },
    {
      "cell_type": "code",
      "source": [
        "x=x_train.to_numpy()\n",
        "y=y_train.to_numpy()\n",
        "\n",
        "w = np.dot(np.dot(np.linalg.inv(np.dot(x.T, x)), x.T), y)\n",
        "print(w)\n",
        "\n",
        "y_pred=np.dot(x_test.to_numpy(),w)\n",
        "y_pred_binary = np.where(y_pred >= 0, 1, -1)\n",
        "\n",
        "accuracy = np.mean(y_pred_binary == y_test.to_numpy().T)\n",
        "print(f\"Accuracy: { accuracy*100}%\")"
      ],
      "metadata": {
        "colab": {
          "base_uri": "https://localhost:8080/"
        },
        "id": "sP_h7oZZzL4b",
        "outputId": "5dbe9cc0-421c-4b1b-c7ad-15c0859efb1c"
      },
      "execution_count": 111,
      "outputs": [
        {
          "output_type": "stream",
          "name": "stdout",
          "text": [
            "[ 0.07899862  0.35712006 -0.49327059 -0.0161304 ]\n",
            "Accuracy: 100.0%\n"
          ]
        }
      ]
    },
    {
      "cell_type": "markdown",
      "source": [
        "**plotting the w**"
      ],
      "metadata": {
        "id": "STQrxGvD2HWY"
      }
    },
    {
      "cell_type": "code",
      "source": [
        "plt.figure(figsize=(8, 6))\n",
        "sns.lineplot(x=np.arange(len(w)), y=w.flatten(), marker='o')\n",
        "plt.xlabel('Index')\n",
        "plt.ylabel('Weight Value')\n",
        "plt.title('Weights line fitting')\n",
        "plt.show()"
      ],
      "metadata": {
        "colab": {
          "base_uri": "https://localhost:8080/",
          "height": 564
        },
        "id": "26JXSdb82Kkl",
        "outputId": "15c59b78-85af-40b5-9571-c5fcb712237e"
      },
      "execution_count": 112,
      "outputs": [
        {
          "output_type": "display_data",
          "data": {
            "text/plain": [
              "<Figure size 800x600 with 1 Axes>"
            ],
            "image/png": "[encoded data removed]"
          },
          "metadata": {}
        }
      ]
    }
  ]
}